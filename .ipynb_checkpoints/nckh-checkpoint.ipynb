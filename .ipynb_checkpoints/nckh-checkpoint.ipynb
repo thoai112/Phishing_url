{
 "cells": [
  {
   "cell_type": "code",
   "execution_count": 62,
   "id": "a048d249",
   "metadata": {},
   "outputs": [
    {
     "data": {
      "text/plain": [
       "''"
      ]
     },
     "execution_count": 62,
     "metadata": {},
     "output_type": "execute_result"
    }
   ],
   "source": [
    "import tensorflow as tf\n",
    "tf.test.gpu_device_name()"
   ]
  },
  {
   "cell_type": "code",
   "execution_count": 63,
   "id": "81ece1c4",
   "metadata": {},
   "outputs": [],
   "source": [
    "import pandas as pd # use for data manipulation and analysis\n",
    "import numpy as np # use for multi-dimensional array and matrix\n",
    "\n",
    "import seaborn as sns # use for high-level interface for drawing attractive and informative statistical graphics \n",
    "import matplotlib.pyplot as plt # It provides an object-oriented API for embedding plots into applications\n",
    "%matplotlib inline \n",
    "# It sets the backend of matplotlib to the 'inline' backend:\n",
    "import time # calculate time \n",
    "\n",
    "from sklearn.linear_model import LogisticRegression # algo use to predict good or bad\n",
    "from sklearn.naive_bayes import MultinomialNB # nlp algo use to predict good or bad\n",
    "\n",
    "from sklearn.model_selection import train_test_split # spliting the data between feature and target\n",
    "from sklearn.metrics import classification_report # gives whole report about metrics (e.g, recall,precision,f1_score,c_m)\n",
    "from sklearn.metrics import confusion_matrix # gives info about actual and predict\n",
    "from nltk.tokenize import RegexpTokenizer # regexp tokenizers use to split words from text  \n",
    "from nltk.stem.snowball import SnowballStemmer # stemmes words\n",
    "from sklearn.feature_extraction.text import CountVectorizer # create sparse matrix of words using regexptokenizes  \n",
    "from sklearn.pipeline import make_pipeline # use for combining all prerocessors techniuqes and algos\n",
    "\n",
    "from PIL import Image # getting images in notebook\n",
    "# from wordcloud import WordCloud, STOPWORDS, ImageColorGenerator# creates words colud\n",
    "\n",
    "#from bs4 import BeautifulSoup # use for scraping the data from website\n",
    "#from selenium import webdriver # use for automation chrome \n",
    "#import networkx as nx # for the creation, manipulation, and study of the structure, dynamics, and functions of complex networks.\n",
    "\n",
    "import pickle# use to dump model \n",
    "\n",
    "import warnings # ignores pink warnings \n",
    "warnings.filterwarnings('ignore')"
   ]
  },
  {
   "cell_type": "code",
   "execution_count": 64,
   "id": "2fe07fe9",
   "metadata": {},
   "outputs": [],
   "source": [
    "phish_data = pd.read_csv('phishing.csv')"
   ]
  },
  {
   "cell_type": "code",
   "execution_count": 65,
   "id": "f3685288",
   "metadata": {},
   "outputs": [
    {
     "data": {
      "text/html": [
       "<div>\n",
       "<style scoped>\n",
       "    .dataframe tbody tr th:only-of-type {\n",
       "        vertical-align: middle;\n",
       "    }\n",
       "\n",
       "    .dataframe tbody tr th {\n",
       "        vertical-align: top;\n",
       "    }\n",
       "\n",
       "    .dataframe thead th {\n",
       "        text-align: right;\n",
       "    }\n",
       "</style>\n",
       "<table border=\"1\" class=\"dataframe\">\n",
       "  <thead>\n",
       "    <tr style=\"text-align: right;\">\n",
       "      <th></th>\n",
       "      <th>URL</th>\n",
       "      <th>Label</th>\n",
       "    </tr>\n",
       "  </thead>\n",
       "  <tbody>\n",
       "    <tr>\n",
       "      <th>0</th>\n",
       "      <td>nobell.it/70ffb52d079109dca5664cce6f317373782/...</td>\n",
       "      <td>Phishing</td>\n",
       "    </tr>\n",
       "    <tr>\n",
       "      <th>1</th>\n",
       "      <td>www.dghjdgf.com/paypal.co.uk/cycgi-bin/webscrc...</td>\n",
       "      <td>Phishing</td>\n",
       "    </tr>\n",
       "    <tr>\n",
       "      <th>2</th>\n",
       "      <td>serviciosbys.com/paypal.cgi.bin.get-into.herf....</td>\n",
       "      <td>Phishing</td>\n",
       "    </tr>\n",
       "    <tr>\n",
       "      <th>3</th>\n",
       "      <td>mail.printakid.com/www.online.americanexpress....</td>\n",
       "      <td>Phishing</td>\n",
       "    </tr>\n",
       "    <tr>\n",
       "      <th>4</th>\n",
       "      <td>thewhiskeydregs.com/wp-content/themes/widescre...</td>\n",
       "      <td>Phishing</td>\n",
       "    </tr>\n",
       "  </tbody>\n",
       "</table>\n",
       "</div>"
      ],
      "text/plain": [
       "                                                 URL     Label\n",
       "0  nobell.it/70ffb52d079109dca5664cce6f317373782/...  Phishing\n",
       "1  www.dghjdgf.com/paypal.co.uk/cycgi-bin/webscrc...  Phishing\n",
       "2  serviciosbys.com/paypal.cgi.bin.get-into.herf....  Phishing\n",
       "3  mail.printakid.com/www.online.americanexpress....  Phishing\n",
       "4  thewhiskeydregs.com/wp-content/themes/widescre...  Phishing"
      ]
     },
     "execution_count": 65,
     "metadata": {},
     "output_type": "execute_result"
    }
   ],
   "source": [
    "phish_data.head()"
   ]
  },
  {
   "cell_type": "code",
   "execution_count": 66,
   "id": "dbadb524",
   "metadata": {},
   "outputs": [
    {
     "data": {
      "text/html": [
       "<div>\n",
       "<style scoped>\n",
       "    .dataframe tbody tr th:only-of-type {\n",
       "        vertical-align: middle;\n",
       "    }\n",
       "\n",
       "    .dataframe tbody tr th {\n",
       "        vertical-align: top;\n",
       "    }\n",
       "\n",
       "    .dataframe thead th {\n",
       "        text-align: right;\n",
       "    }\n",
       "</style>\n",
       "<table border=\"1\" class=\"dataframe\">\n",
       "  <thead>\n",
       "    <tr style=\"text-align: right;\">\n",
       "      <th></th>\n",
       "      <th>URL</th>\n",
       "      <th>Label</th>\n",
       "    </tr>\n",
       "  </thead>\n",
       "  <tbody>\n",
       "    <tr>\n",
       "      <th>549342</th>\n",
       "      <td>apple-checker.org/</td>\n",
       "      <td>Phishing</td>\n",
       "    </tr>\n",
       "    <tr>\n",
       "      <th>549343</th>\n",
       "      <td>apple-iclods.org/</td>\n",
       "      <td>Phishing</td>\n",
       "    </tr>\n",
       "    <tr>\n",
       "      <th>549344</th>\n",
       "      <td>apple-uptoday.org/</td>\n",
       "      <td>Phishing</td>\n",
       "    </tr>\n",
       "    <tr>\n",
       "      <th>549345</th>\n",
       "      <td>apple-search.info</td>\n",
       "      <td>Phishing</td>\n",
       "    </tr>\n",
       "    <tr>\n",
       "      <th>549346</th>\n",
       "      <td>zalo.me/</td>\n",
       "      <td>Safe</td>\n",
       "    </tr>\n",
       "  </tbody>\n",
       "</table>\n",
       "</div>"
      ],
      "text/plain": [
       "                       URL     Label\n",
       "549342  apple-checker.org/  Phishing\n",
       "549343   apple-iclods.org/  Phishing\n",
       "549344  apple-uptoday.org/  Phishing\n",
       "549345   apple-search.info  Phishing\n",
       "549346            zalo.me/      Safe"
      ]
     },
     "execution_count": 66,
     "metadata": {},
     "output_type": "execute_result"
    }
   ],
   "source": [
    "phish_data.tail()"
   ]
  },
  {
   "cell_type": "code",
   "execution_count": 67,
   "id": "d8b3855f",
   "metadata": {},
   "outputs": [
    {
     "name": "stdout",
     "output_type": "stream",
     "text": [
      "<class 'pandas.core.frame.DataFrame'>\n",
      "RangeIndex: 549347 entries, 0 to 549346\n",
      "Data columns (total 2 columns):\n",
      " #   Column  Non-Null Count   Dtype \n",
      "---  ------  --------------   ----- \n",
      " 0   URL     549347 non-null  object\n",
      " 1   Label   549347 non-null  object\n",
      "dtypes: object(2)\n",
      "memory usage: 8.4+ MB\n"
     ]
    }
   ],
   "source": [
    "phish_data.info()"
   ]
  },
  {
   "cell_type": "code",
   "execution_count": 68,
   "id": "dbeee3a7",
   "metadata": {},
   "outputs": [
    {
     "data": {
      "text/plain": [
       "URL      0\n",
       "Label    0\n",
       "dtype: int64"
      ]
     },
     "execution_count": 68,
     "metadata": {},
     "output_type": "execute_result"
    }
   ],
   "source": [
    "phish_data.isnull().sum()"
   ]
  },
  {
   "cell_type": "code",
   "execution_count": 69,
   "id": "cf9318b9",
   "metadata": {},
   "outputs": [],
   "source": [
    "label_counts = pd.DataFrame(phish_data.Label.value_counts())"
   ]
  },
  {
   "cell_type": "code",
   "execution_count": 70,
   "id": "52c723cf",
   "metadata": {},
   "outputs": [
    {
     "data": {
      "text/plain": [
       "<AxesSubplot:ylabel='Label'>"
      ]
     },
     "execution_count": 70,
     "metadata": {},
     "output_type": "execute_result"
    },
    {
     "data": {
      "image/png": "[encoded data removed]",
      "text/plain": [
       "<Figure size 432x288 with 1 Axes>"
      ]
     },
     "metadata": {},
     "output_type": "display_data"
    }
   ],
   "source": [
    "sns.set_style('darkgrid')\n",
    "sns.barplot(label_counts.index,label_counts.Label)"
   ]
  },
  {
   "cell_type": "code",
   "execution_count": 71,
   "id": "794ecf2f",
   "metadata": {},
   "outputs": [],
   "source": [
    "tokenizer = RegexpTokenizer(r'[A-Za-z]+')"
   ]
  },
  {
   "cell_type": "code",
   "execution_count": 72,
   "id": "fd6e1349",
   "metadata": {},
   "outputs": [
    {
     "data": {
      "text/plain": [
       "'www.dghjdgf.com/paypal.co.uk/cycgi-bin/webscrcmd=_home-customer&nav=1/loading.php'"
      ]
     },
     "execution_count": 72,
     "metadata": {},
     "output_type": "execute_result"
    }
   ],
   "source": [
    "phish_data.URL[1]"
   ]
  },
  {
   "cell_type": "code",
   "execution_count": 73,
   "id": "f604263a",
   "metadata": {},
   "outputs": [
    {
     "data": {
      "text/plain": [
       "'serviciosbys.com/paypal.cgi.bin.get-into.herf.secure.dispatch35463256rzr321654641dsf654321874/href/href/href/secure/center/update/limit/seccure/4d7a1ff5c55825a2e632a679c2fd5353/'"
      ]
     },
     "execution_count": 73,
     "metadata": {},
     "output_type": "execute_result"
    }
   ],
   "source": [
    "phish_data.URL[2]"
   ]
  },
  {
   "cell_type": "code",
   "execution_count": 74,
   "id": "c77066d7",
   "metadata": {},
   "outputs": [
    {
     "data": {
      "text/plain": [
       "'thewhiskeydregs.com/wp-content/themes/widescreen/includes/temp/promocoessmiles/?84784787824HDJNDJDSJSHD//2724782784/'"
      ]
     },
     "execution_count": 74,
     "metadata": {},
     "output_type": "execute_result"
    }
   ],
   "source": [
    "phish_data.URL[4]"
   ]
  },
  {
   "cell_type": "code",
   "execution_count": 75,
   "id": "7a1c2ff1",
   "metadata": {},
   "outputs": [
    {
     "data": {
      "text/plain": [
       "'www.dghjdgf.com/paypal.co.uk/cycgi-bin/webscrcmd=_home-customer&nav=1/loading.php'"
      ]
     },
     "execution_count": 75,
     "metadata": {},
     "output_type": "execute_result"
    }
   ],
   "source": [
    "phish_data.URL[1]"
   ]
  },
  {
   "cell_type": "code",
   "execution_count": 19,
   "id": "f2c4ebce",
   "metadata": {},
   "outputs": [
    {
     "data": {
      "text/plain": [
       "['www',\n",
       " 'dghjdgf',\n",
       " 'com',\n",
       " 'paypal',\n",
       " 'co',\n",
       " 'uk',\n",
       " 'cycgi',\n",
       " 'bin',\n",
       " 'webscrcmd',\n",
       " 'home',\n",
       " 'customer',\n",
       " 'nav',\n",
       " 'loading',\n",
       " 'php']"
      ]
     },
     "execution_count": 19,
     "metadata": {},
     "output_type": "execute_result"
    }
   ],
   "source": [
    "tokenizer.tokenize(phish_data.URL[1])"
   ]
  },
  {
   "cell_type": "code",
   "execution_count": 76,
   "id": "8ff38ac8",
   "metadata": {},
   "outputs": [
    {
     "name": "stdout",
     "output_type": "stream",
     "text": [
      "Getting words tokenized ...\n",
      "Time taken 2.310612299999775 sec\n"
     ]
    }
   ],
   "source": [
    "print('Getting words tokenized ...')\n",
    "t0= time.perf_counter()\n",
    "phish_data['text_tokenized'] = phish_data.URL.map(lambda t: tokenizer.tokenize(t)) # doing with all rows\n",
    "t1 = time.perf_counter() - t0\n",
    "print('Time taken',t1 ,'sec')"
   ]
  },
  {
   "cell_type": "code",
   "execution_count": 77,
   "id": "071480b4",
   "metadata": {},
   "outputs": [
    {
     "data": {
      "text/html": [
       "<div>\n",
       "<style scoped>\n",
       "    .dataframe tbody tr th:only-of-type {\n",
       "        vertical-align: middle;\n",
       "    }\n",
       "\n",
       "    .dataframe tbody tr th {\n",
       "        vertical-align: top;\n",
       "    }\n",
       "\n",
       "    .dataframe thead th {\n",
       "        text-align: right;\n",
       "    }\n",
       "</style>\n",
       "<table border=\"1\" class=\"dataframe\">\n",
       "  <thead>\n",
       "    <tr style=\"text-align: right;\">\n",
       "      <th></th>\n",
       "      <th>URL</th>\n",
       "      <th>Label</th>\n",
       "      <th>text_tokenized</th>\n",
       "    </tr>\n",
       "  </thead>\n",
       "  <tbody>\n",
       "    <tr>\n",
       "      <th>169825</th>\n",
       "      <td>en.wikilib.com/wiki/List_of_people_from_Michigan</td>\n",
       "      <td>Safe</td>\n",
       "      <td>[en, wikilib, com, wiki, List, of, people, fro...</td>\n",
       "    </tr>\n",
       "    <tr>\n",
       "      <th>432184</th>\n",
       "      <td>slideshare.net/catherinebelanger2/sensio-corpo...</td>\n",
       "      <td>Safe</td>\n",
       "      <td>[slideshare, net, catherinebelanger, sensio, c...</td>\n",
       "    </tr>\n",
       "    <tr>\n",
       "      <th>221614</th>\n",
       "      <td>nfl.wikia.com/wiki/2007_Cleveland_Browns</td>\n",
       "      <td>Safe</td>\n",
       "      <td>[nfl, wikia, com, wiki, Cleveland, Browns]</td>\n",
       "    </tr>\n",
       "    <tr>\n",
       "      <th>241102</th>\n",
       "      <td>soydelpatio.net/wed/descargar-lo-mio-es-cantar...</td>\n",
       "      <td>Safe</td>\n",
       "      <td>[soydelpatio, net, wed, descargar, lo, mio, es...</td>\n",
       "    </tr>\n",
       "    <tr>\n",
       "      <th>41460</th>\n",
       "      <td>'9d345009-a-62cb3a1a-s-sites.googlegroups.com/...</td>\n",
       "      <td>Phishing</td>\n",
       "      <td>[d, a, cb, a, a, s, sites, googlegroups, com, ...</td>\n",
       "    </tr>\n",
       "  </tbody>\n",
       "</table>\n",
       "</div>"
      ],
      "text/plain": [
       "                                                      URL     Label  \\\n",
       "169825   en.wikilib.com/wiki/List_of_people_from_Michigan      Safe   \n",
       "432184  slideshare.net/catherinebelanger2/sensio-corpo...      Safe   \n",
       "221614           nfl.wikia.com/wiki/2007_Cleveland_Browns      Safe   \n",
       "241102  soydelpatio.net/wed/descargar-lo-mio-es-cantar...      Safe   \n",
       "41460   '9d345009-a-62cb3a1a-s-sites.googlegroups.com/...  Phishing   \n",
       "\n",
       "                                           text_tokenized  \n",
       "169825  [en, wikilib, com, wiki, List, of, people, fro...  \n",
       "432184  [slideshare, net, catherinebelanger, sensio, c...  \n",
       "221614         [nfl, wikia, com, wiki, Cleveland, Browns]  \n",
       "241102  [soydelpatio, net, wed, descargar, lo, mio, es...  \n",
       "41460   [d, a, cb, a, a, s, sites, googlegroups, com, ...  "
      ]
     },
     "execution_count": 77,
     "metadata": {},
     "output_type": "execute_result"
    }
   ],
   "source": [
    "phish_data.sample(5)"
   ]
  },
  {
   "cell_type": "code",
   "execution_count": 78,
   "id": "fc771ba7",
   "metadata": {},
   "outputs": [
    {
     "data": {
      "text/html": [
       "<div>\n",
       "<style scoped>\n",
       "    .dataframe tbody tr th:only-of-type {\n",
       "        vertical-align: middle;\n",
       "    }\n",
       "\n",
       "    .dataframe tbody tr th {\n",
       "        vertical-align: top;\n",
       "    }\n",
       "\n",
       "    .dataframe thead th {\n",
       "        text-align: right;\n",
       "    }\n",
       "</style>\n",
       "<table border=\"1\" class=\"dataframe\">\n",
       "  <thead>\n",
       "    <tr style=\"text-align: right;\">\n",
       "      <th></th>\n",
       "      <th>URL</th>\n",
       "      <th>Label</th>\n",
       "      <th>text_tokenized</th>\n",
       "    </tr>\n",
       "  </thead>\n",
       "  <tbody>\n",
       "    <tr>\n",
       "      <th>239924</th>\n",
       "      <td>slam.canoe.ca/Slam/Wrestling/2010/04/23/136914...</td>\n",
       "      <td>Safe</td>\n",
       "      <td>[slam, canoe, ca, Slam, Wrestling, html]</td>\n",
       "    </tr>\n",
       "    <tr>\n",
       "      <th>368938</th>\n",
       "      <td>knbr.fantasysportsmatrix.com/</td>\n",
       "      <td>Safe</td>\n",
       "      <td>[knbr, fantasysportsmatrix, com]</td>\n",
       "    </tr>\n",
       "    <tr>\n",
       "      <th>484915</th>\n",
       "      <td>two.hfdodiopr.biz/fmfz80n0nh\\ndkoawit6.com/ik/...</td>\n",
       "      <td>Phishing</td>\n",
       "      <td>[two, hfdodiopr, biz, fmfz, n, nh, ndkoawit, c...</td>\n",
       "    </tr>\n",
       "    <tr>\n",
       "      <th>117924</th>\n",
       "      <td>hasbean.hu/plugins/content/geshi/cms/tabvsac/</td>\n",
       "      <td>Phishing</td>\n",
       "      <td>[hasbean, hu, plugins, content, geshi, cms, ta...</td>\n",
       "    </tr>\n",
       "    <tr>\n",
       "      <th>191193</th>\n",
       "      <td>freshsoccer.com/live-montedio-yamagata-vs-uraw...</td>\n",
       "      <td>Safe</td>\n",
       "      <td>[freshsoccer, com, live, montedio, yamagata, v...</td>\n",
       "    </tr>\n",
       "    <tr>\n",
       "      <th>397110</th>\n",
       "      <td>mylife.com/joehendersoniii</td>\n",
       "      <td>Safe</td>\n",
       "      <td>[mylife, com, joehendersoniii]</td>\n",
       "    </tr>\n",
       "    <tr>\n",
       "      <th>441222</th>\n",
       "      <td>switchimageproject.com/2008/09/selangor-fa-199...</td>\n",
       "      <td>Safe</td>\n",
       "      <td>[switchimageproject, com, selangor, fa, and, f...</td>\n",
       "    </tr>\n",
       "    <tr>\n",
       "      <th>400278</th>\n",
       "      <td>myspace.com/philippeletawe</td>\n",
       "      <td>Safe</td>\n",
       "      <td>[myspace, com, philippeletawe]</td>\n",
       "    </tr>\n",
       "    <tr>\n",
       "      <th>224075</th>\n",
       "      <td>opalfone.net/</td>\n",
       "      <td>Safe</td>\n",
       "      <td>[opalfone, net]</td>\n",
       "    </tr>\n",
       "    <tr>\n",
       "      <th>138249</th>\n",
       "      <td>sahinlercnc.com/google/</td>\n",
       "      <td>Phishing</td>\n",
       "      <td>[sahinlercnc, com, google]</td>\n",
       "    </tr>\n",
       "  </tbody>\n",
       "</table>\n",
       "</div>"
      ],
      "text/plain": [
       "                                                      URL     Label  \\\n",
       "239924  slam.canoe.ca/Slam/Wrestling/2010/04/23/136914...      Safe   \n",
       "368938                      knbr.fantasysportsmatrix.com/      Safe   \n",
       "484915  two.hfdodiopr.biz/fmfz80n0nh\\ndkoawit6.com/ik/...  Phishing   \n",
       "117924      hasbean.hu/plugins/content/geshi/cms/tabvsac/  Phishing   \n",
       "191193  freshsoccer.com/live-montedio-yamagata-vs-uraw...      Safe   \n",
       "397110                         mylife.com/joehendersoniii      Safe   \n",
       "441222  switchimageproject.com/2008/09/selangor-fa-199...      Safe   \n",
       "400278                         myspace.com/philippeletawe      Safe   \n",
       "224075                                      opalfone.net/      Safe   \n",
       "138249                            sahinlercnc.com/google/  Phishing   \n",
       "\n",
       "                                           text_tokenized  \n",
       "239924           [slam, canoe, ca, Slam, Wrestling, html]  \n",
       "368938                   [knbr, fantasysportsmatrix, com]  \n",
       "484915  [two, hfdodiopr, biz, fmfz, n, nh, ndkoawit, c...  \n",
       "117924  [hasbean, hu, plugins, content, geshi, cms, ta...  \n",
       "191193  [freshsoccer, com, live, montedio, yamagata, v...  \n",
       "397110                     [mylife, com, joehendersoniii]  \n",
       "441222  [switchimageproject, com, selangor, fa, and, f...  \n",
       "400278                     [myspace, com, philippeletawe]  \n",
       "224075                                    [opalfone, net]  \n",
       "138249                         [sahinlercnc, com, google]  "
      ]
     },
     "execution_count": 78,
     "metadata": {},
     "output_type": "execute_result"
    }
   ],
   "source": [
    "phish_data.sample(10)"
   ]
  },
  {
   "cell_type": "code",
   "execution_count": 79,
   "id": "43289b39",
   "metadata": {},
   "outputs": [],
   "source": [
    "stemmer = SnowballStemmer(\"english\")"
   ]
  },
  {
   "cell_type": "code",
   "execution_count": 80,
   "id": "70093f08",
   "metadata": {},
   "outputs": [
    {
     "name": "stdout",
     "output_type": "stream",
     "text": [
      "Getting words stemmed ...\n",
      "Time taken 32.32644520000031 sec\n"
     ]
    }
   ],
   "source": [
    "print('Getting words stemmed ...')\n",
    "t0= time.perf_counter()\n",
    "phish_data['text_stemmed'] = phish_data['text_tokenized'].map(lambda l: [stemmer.stem(word) for word in l])\n",
    "t1= time.perf_counter() - t0\n",
    "print('Time taken',t1 ,'sec')\n"
   ]
  },
  {
   "cell_type": "code",
   "execution_count": 81,
   "id": "fb96cc90",
   "metadata": {},
   "outputs": [
    {
     "data": {
      "text/html": [
       "<div>\n",
       "<style scoped>\n",
       "    .dataframe tbody tr th:only-of-type {\n",
       "        vertical-align: middle;\n",
       "    }\n",
       "\n",
       "    .dataframe tbody tr th {\n",
       "        vertical-align: top;\n",
       "    }\n",
       "\n",
       "    .dataframe thead th {\n",
       "        text-align: right;\n",
       "    }\n",
       "</style>\n",
       "<table border=\"1\" class=\"dataframe\">\n",
       "  <thead>\n",
       "    <tr style=\"text-align: right;\">\n",
       "      <th></th>\n",
       "      <th>URL</th>\n",
       "      <th>Label</th>\n",
       "      <th>text_tokenized</th>\n",
       "      <th>text_stemmed</th>\n",
       "    </tr>\n",
       "  </thead>\n",
       "  <tbody>\n",
       "    <tr>\n",
       "      <th>89060</th>\n",
       "      <td>ociweb.com/jnb/jnbMar2006.html</td>\n",
       "      <td>Safe</td>\n",
       "      <td>[ociweb, com, jnb, jnbMar, html]</td>\n",
       "      <td>[ociweb, com, jnb, jnbmar, html]</td>\n",
       "    </tr>\n",
       "    <tr>\n",
       "      <th>310123</th>\n",
       "      <td>cowboylyrics.com/lyrics/cash-johnny/if-i-were-...</td>\n",
       "      <td>Safe</td>\n",
       "      <td>[cowboylyrics, com, lyrics, cash, johnny, if, ...</td>\n",
       "      <td>[cowboylyr, com, lyric, cash, johnni, if, i, w...</td>\n",
       "    </tr>\n",
       "    <tr>\n",
       "      <th>465422</th>\n",
       "      <td>wolfgangsvault.com/howlin-rain/video/soundchec...</td>\n",
       "      <td>Safe</td>\n",
       "      <td>[wolfgangsvault, com, howlin, rain, video, sou...</td>\n",
       "      <td>[wolfgangsvault, com, howlin, rain, video, sou...</td>\n",
       "    </tr>\n",
       "    <tr>\n",
       "      <th>530448</th>\n",
       "      <td>185.5.250.135/upload/_dispatch.php</td>\n",
       "      <td>Phishing</td>\n",
       "      <td>[upload, dispatch, php]</td>\n",
       "      <td>[upload, dispatch, php]</td>\n",
       "    </tr>\n",
       "    <tr>\n",
       "      <th>328384</th>\n",
       "      <td>facebook.com/pages/Alliance-Francaise-Of-Dupag...</td>\n",
       "      <td>Safe</td>\n",
       "      <td>[facebook, com, pages, Alliance, Francaise, Of...</td>\n",
       "      <td>[facebook, com, page, allianc, francais, of, d...</td>\n",
       "    </tr>\n",
       "  </tbody>\n",
       "</table>\n",
       "</div>"
      ],
      "text/plain": [
       "                                                      URL     Label  \\\n",
       "89060                      ociweb.com/jnb/jnbMar2006.html      Safe   \n",
       "310123  cowboylyrics.com/lyrics/cash-johnny/if-i-were-...      Safe   \n",
       "465422  wolfgangsvault.com/howlin-rain/video/soundchec...      Safe   \n",
       "530448                 185.5.250.135/upload/_dispatch.php  Phishing   \n",
       "328384  facebook.com/pages/Alliance-Francaise-Of-Dupag...      Safe   \n",
       "\n",
       "                                           text_tokenized  \\\n",
       "89060                    [ociweb, com, jnb, jnbMar, html]   \n",
       "310123  [cowboylyrics, com, lyrics, cash, johnny, if, ...   \n",
       "465422  [wolfgangsvault, com, howlin, rain, video, sou...   \n",
       "530448                            [upload, dispatch, php]   \n",
       "328384  [facebook, com, pages, Alliance, Francaise, Of...   \n",
       "\n",
       "                                             text_stemmed  \n",
       "89060                    [ociweb, com, jnb, jnbmar, html]  \n",
       "310123  [cowboylyr, com, lyric, cash, johnni, if, i, w...  \n",
       "465422  [wolfgangsvault, com, howlin, rain, video, sou...  \n",
       "530448                            [upload, dispatch, php]  \n",
       "328384  [facebook, com, page, allianc, francais, of, d...  "
      ]
     },
     "execution_count": 81,
     "metadata": {},
     "output_type": "execute_result"
    }
   ],
   "source": [
    "phish_data.sample(5)"
   ]
  },
  {
   "cell_type": "code",
   "execution_count": 82,
   "id": "6f221ce3",
   "metadata": {},
   "outputs": [
    {
     "name": "stdout",
     "output_type": "stream",
     "text": [
      "Getting joiningwords ...\n",
      "Time taken 0.16369489999851794 sec\n"
     ]
    }
   ],
   "source": [
    "print('Getting joiningwords ...')\n",
    "t0= time.perf_counter()\n",
    "phish_data['text_sent'] = phish_data['text_stemmed'].map(lambda l: ' '.join(l))\n",
    "t1= time.perf_counter() - t0\n",
    "print('Time taken',t1 ,'sec')"
   ]
  },
  {
   "cell_type": "code",
   "execution_count": 83,
   "id": "7e242392",
   "metadata": {},
   "outputs": [
    {
     "data": {
      "text/html": [
       "<div>\n",
       "<style scoped>\n",
       "    .dataframe tbody tr th:only-of-type {\n",
       "        vertical-align: middle;\n",
       "    }\n",
       "\n",
       "    .dataframe tbody tr th {\n",
       "        vertical-align: top;\n",
       "    }\n",
       "\n",
       "    .dataframe thead th {\n",
       "        text-align: right;\n",
       "    }\n",
       "</style>\n",
       "<table border=\"1\" class=\"dataframe\">\n",
       "  <thead>\n",
       "    <tr style=\"text-align: right;\">\n",
       "      <th></th>\n",
       "      <th>URL</th>\n",
       "      <th>Label</th>\n",
       "      <th>text_tokenized</th>\n",
       "      <th>text_stemmed</th>\n",
       "      <th>text_sent</th>\n",
       "    </tr>\n",
       "  </thead>\n",
       "  <tbody>\n",
       "    <tr>\n",
       "      <th>529940</th>\n",
       "      <td>pernelkul.hu/00i1453</td>\n",
       "      <td>Phishing</td>\n",
       "      <td>[pernelkul, hu, i]</td>\n",
       "      <td>[pernelkul, hu, i]</td>\n",
       "      <td>pernelkul hu i</td>\n",
       "    </tr>\n",
       "    <tr>\n",
       "      <th>393648</th>\n",
       "      <td>msnbc.msn.com/id/3077730/ns/technology_and_sci...</td>\n",
       "      <td>Safe</td>\n",
       "      <td>[msnbc, msn, com, id, ns, technology, and, sci...</td>\n",
       "      <td>[msnbc, msn, com, id, ns, technolog, and, scie...</td>\n",
       "      <td>msnbc msn com id ns technolog and scienc space...</td>\n",
       "    </tr>\n",
       "    <tr>\n",
       "      <th>436668</th>\n",
       "      <td>spokeo.com/Gabriel+Zamora</td>\n",
       "      <td>Safe</td>\n",
       "      <td>[spokeo, com, Gabriel, Zamora]</td>\n",
       "      <td>[spokeo, com, gabriel, zamora]</td>\n",
       "      <td>spokeo com gabriel zamora</td>\n",
       "    </tr>\n",
       "    <tr>\n",
       "      <th>500897</th>\n",
       "      <td>mojejeze.republika.pl/87b3ff3rc</td>\n",
       "      <td>Phishing</td>\n",
       "      <td>[mojejeze, republika, pl, b, ff, rc]</td>\n",
       "      <td>[mojejez, republika, pl, b, ff, rc]</td>\n",
       "      <td>mojejez republika pl b ff rc</td>\n",
       "    </tr>\n",
       "    <tr>\n",
       "      <th>333539</th>\n",
       "      <td>factbites.com/topics/Flyer</td>\n",
       "      <td>Safe</td>\n",
       "      <td>[factbites, com, topics, Flyer]</td>\n",
       "      <td>[factbit, com, topic, flyer]</td>\n",
       "      <td>factbit com topic flyer</td>\n",
       "    </tr>\n",
       "  </tbody>\n",
       "</table>\n",
       "</div>"
      ],
      "text/plain": [
       "                                                      URL     Label  \\\n",
       "529940                               pernelkul.hu/00i1453  Phishing   \n",
       "393648  msnbc.msn.com/id/3077730/ns/technology_and_sci...      Safe   \n",
       "436668                          spokeo.com/Gabriel+Zamora      Safe   \n",
       "500897                    mojejeze.republika.pl/87b3ff3rc  Phishing   \n",
       "333539                         factbites.com/topics/Flyer      Safe   \n",
       "\n",
       "                                           text_tokenized  \\\n",
       "529940                                 [pernelkul, hu, i]   \n",
       "393648  [msnbc, msn, com, id, ns, technology, and, sci...   \n",
       "436668                     [spokeo, com, Gabriel, Zamora]   \n",
       "500897               [mojejeze, republika, pl, b, ff, rc]   \n",
       "333539                    [factbites, com, topics, Flyer]   \n",
       "\n",
       "                                             text_stemmed  \\\n",
       "529940                                 [pernelkul, hu, i]   \n",
       "393648  [msnbc, msn, com, id, ns, technolog, and, scie...   \n",
       "436668                     [spokeo, com, gabriel, zamora]   \n",
       "500897                [mojejez, republika, pl, b, ff, rc]   \n",
       "333539                       [factbit, com, topic, flyer]   \n",
       "\n",
       "                                                text_sent  \n",
       "529940                                     pernelkul hu i  \n",
       "393648  msnbc msn com id ns technolog and scienc space...  \n",
       "436668                          spokeo com gabriel zamora  \n",
       "500897                       mojejez republika pl b ff rc  \n",
       "333539                            factbit com topic flyer  "
      ]
     },
     "execution_count": 83,
     "metadata": {},
     "output_type": "execute_result"
    }
   ],
   "source": [
    "phish_data.sample(5)"
   ]
  },
  {
   "cell_type": "code",
   "execution_count": 84,
   "id": "550f97ae",
   "metadata": {},
   "outputs": [],
   "source": [
    "bad_sites = phish_data[phish_data.Label == 'Phishing']\n",
    "good_sites = phish_data[phish_data.Label == 'Safe']"
   ]
  },
  {
   "cell_type": "code",
   "execution_count": 85,
   "id": "6bbd3738",
   "metadata": {},
   "outputs": [
    {
     "data": {
      "text/html": [
       "<div>\n",
       "<style scoped>\n",
       "    .dataframe tbody tr th:only-of-type {\n",
       "        vertical-align: middle;\n",
       "    }\n",
       "\n",
       "    .dataframe tbody tr th {\n",
       "        vertical-align: top;\n",
       "    }\n",
       "\n",
       "    .dataframe thead th {\n",
       "        text-align: right;\n",
       "    }\n",
       "</style>\n",
       "<table border=\"1\" class=\"dataframe\">\n",
       "  <thead>\n",
       "    <tr style=\"text-align: right;\">\n",
       "      <th></th>\n",
       "      <th>URL</th>\n",
       "      <th>Label</th>\n",
       "      <th>text_tokenized</th>\n",
       "      <th>text_stemmed</th>\n",
       "      <th>text_sent</th>\n",
       "    </tr>\n",
       "  </thead>\n",
       "  <tbody>\n",
       "    <tr>\n",
       "      <th>0</th>\n",
       "      <td>nobell.it/70ffb52d079109dca5664cce6f317373782/...</td>\n",
       "      <td>Phishing</td>\n",
       "      <td>[nobell, it, ffb, d, dca, cce, f, login, SkyPe...</td>\n",
       "      <td>[nobel, it, ffb, d, dca, cce, f, login, skype,...</td>\n",
       "      <td>nobel it ffb d dca cce f login skype com en cg...</td>\n",
       "    </tr>\n",
       "    <tr>\n",
       "      <th>1</th>\n",
       "      <td>www.dghjdgf.com/paypal.co.uk/cycgi-bin/webscrc...</td>\n",
       "      <td>Phishing</td>\n",
       "      <td>[www, dghjdgf, com, paypal, co, uk, cycgi, bin...</td>\n",
       "      <td>[www, dghjdgf, com, paypal, co, uk, cycgi, bin...</td>\n",
       "      <td>www dghjdgf com paypal co uk cycgi bin webscrc...</td>\n",
       "    </tr>\n",
       "    <tr>\n",
       "      <th>2</th>\n",
       "      <td>serviciosbys.com/paypal.cgi.bin.get-into.herf....</td>\n",
       "      <td>Phishing</td>\n",
       "      <td>[serviciosbys, com, paypal, cgi, bin, get, int...</td>\n",
       "      <td>[serviciosbi, com, paypal, cgi, bin, get, into...</td>\n",
       "      <td>serviciosbi com paypal cgi bin get into herf s...</td>\n",
       "    </tr>\n",
       "    <tr>\n",
       "      <th>3</th>\n",
       "      <td>mail.printakid.com/www.online.americanexpress....</td>\n",
       "      <td>Phishing</td>\n",
       "      <td>[mail, printakid, com, www, online, americanex...</td>\n",
       "      <td>[mail, printakid, com, www, onlin, americanexp...</td>\n",
       "      <td>mail printakid com www onlin americanexpress c...</td>\n",
       "    </tr>\n",
       "    <tr>\n",
       "      <th>4</th>\n",
       "      <td>thewhiskeydregs.com/wp-content/themes/widescre...</td>\n",
       "      <td>Phishing</td>\n",
       "      <td>[thewhiskeydregs, com, wp, content, themes, wi...</td>\n",
       "      <td>[thewhiskeydreg, com, wp, content, theme, wide...</td>\n",
       "      <td>thewhiskeydreg com wp content theme widescreen...</td>\n",
       "    </tr>\n",
       "  </tbody>\n",
       "</table>\n",
       "</div>"
      ],
      "text/plain": [
       "                                                 URL     Label  \\\n",
       "0  nobell.it/70ffb52d079109dca5664cce6f317373782/...  Phishing   \n",
       "1  www.dghjdgf.com/paypal.co.uk/cycgi-bin/webscrc...  Phishing   \n",
       "2  serviciosbys.com/paypal.cgi.bin.get-into.herf....  Phishing   \n",
       "3  mail.printakid.com/www.online.americanexpress....  Phishing   \n",
       "4  thewhiskeydregs.com/wp-content/themes/widescre...  Phishing   \n",
       "\n",
       "                                      text_tokenized  \\\n",
       "0  [nobell, it, ffb, d, dca, cce, f, login, SkyPe...   \n",
       "1  [www, dghjdgf, com, paypal, co, uk, cycgi, bin...   \n",
       "2  [serviciosbys, com, paypal, cgi, bin, get, int...   \n",
       "3  [mail, printakid, com, www, online, americanex...   \n",
       "4  [thewhiskeydregs, com, wp, content, themes, wi...   \n",
       "\n",
       "                                        text_stemmed  \\\n",
       "0  [nobel, it, ffb, d, dca, cce, f, login, skype,...   \n",
       "1  [www, dghjdgf, com, paypal, co, uk, cycgi, bin...   \n",
       "2  [serviciosbi, com, paypal, cgi, bin, get, into...   \n",
       "3  [mail, printakid, com, www, onlin, americanexp...   \n",
       "4  [thewhiskeydreg, com, wp, content, theme, wide...   \n",
       "\n",
       "                                           text_sent  \n",
       "0  nobel it ffb d dca cce f login skype com en cg...  \n",
       "1  www dghjdgf com paypal co uk cycgi bin webscrc...  \n",
       "2  serviciosbi com paypal cgi bin get into herf s...  \n",
       "3  mail printakid com www onlin americanexpress c...  \n",
       "4  thewhiskeydreg com wp content theme widescreen...  "
      ]
     },
     "execution_count": 85,
     "metadata": {},
     "output_type": "execute_result"
    }
   ],
   "source": [
    "bad_sites.head()"
   ]
  },
  {
   "cell_type": "code",
   "execution_count": 86,
   "id": "b922caf0",
   "metadata": {},
   "outputs": [
    {
     "data": {
      "text/html": [
       "<div>\n",
       "<style scoped>\n",
       "    .dataframe tbody tr th:only-of-type {\n",
       "        vertical-align: middle;\n",
       "    }\n",
       "\n",
       "    .dataframe tbody tr th {\n",
       "        vertical-align: top;\n",
       "    }\n",
       "\n",
       "    .dataframe thead th {\n",
       "        text-align: right;\n",
       "    }\n",
       "</style>\n",
       "<table border=\"1\" class=\"dataframe\">\n",
       "  <thead>\n",
       "    <tr style=\"text-align: right;\">\n",
       "      <th></th>\n",
       "      <th>URL</th>\n",
       "      <th>Label</th>\n",
       "      <th>text_tokenized</th>\n",
       "      <th>text_stemmed</th>\n",
       "      <th>text_sent</th>\n",
       "    </tr>\n",
       "  </thead>\n",
       "  <tbody>\n",
       "    <tr>\n",
       "      <th>18231</th>\n",
       "      <td>esxcc.com/js/index.htm?us.battle.net/noghn/en/...</td>\n",
       "      <td>Safe</td>\n",
       "      <td>[esxcc, com, js, index, htm, us, battle, net, ...</td>\n",
       "      <td>[esxcc, com, js, index, htm, us, battl, net, n...</td>\n",
       "      <td>esxcc com js index htm us battl net noghn en r...</td>\n",
       "    </tr>\n",
       "    <tr>\n",
       "      <th>18232</th>\n",
       "      <td>www\u000eeira¯&amp;nvinip¿ncH¯wVö%ÆåyDaHðû/ÏyEùu\u0003Ë\\nÓ\u00176...</td>\n",
       "      <td>Safe</td>\n",
       "      <td>[www, eira, nvinip, ncH, wV, yDaH, yE, u, rT, ...</td>\n",
       "      <td>[www, eira, nvinip, nch, wv, ydah, ye, u, rt, ...</td>\n",
       "      <td>www eira nvinip nch wv ydah ye u rt u g m i xz...</td>\n",
       "    </tr>\n",
       "    <tr>\n",
       "      <th>18233</th>\n",
       "      <td>'www.institutocgr.coo/web/media/syqvem/dk-\u000fóij...</td>\n",
       "      <td>Safe</td>\n",
       "      <td>[www, institutocgr, coo, web, media, syqvem, d...</td>\n",
       "      <td>[www, institutocgr, coo, web, media, syqvem, d...</td>\n",
       "      <td>www institutocgr coo web media syqvem dk ij r ...</td>\n",
       "    </tr>\n",
       "    <tr>\n",
       "      <th>18234</th>\n",
       "      <td>\u0011\u0018Yìê\f",
       "koãÕ»Î§DéÎ\u0002l½ñ¡ââqtò¸/à; Í</td>\n",
       "      <td>Safe</td>\n",
       "      <td>[Y, ko, D, l, qt]</td>\n",
       "      <td>[y, ko, d, l, qt]</td>\n",
       "      <td>y ko d l qt</td>\n",
       "    </tr>\n",
       "    <tr>\n",
       "      <th>18236</th>\n",
       "      <td>ruta89fm.com/images/AS@Vies/1i75cf7b16vc&lt;F\u0015d16...</td>\n",
       "      <td>Safe</td>\n",
       "      <td>[ruta, fm, com, images, AS, Vies, i, cf, b, vc...</td>\n",
       "      <td>[ruta, fm, com, imag, as, vie, i, cf, b, vc, f...</td>\n",
       "      <td>ruta fm com imag as vie i cf b vc f d b g sd v...</td>\n",
       "    </tr>\n",
       "  </tbody>\n",
       "</table>\n",
       "</div>"
      ],
      "text/plain": [
       "                                                     URL Label  \\\n",
       "18231  esxcc.com/js/index.htm?us.battle.net/noghn/en/...  Safe   \n",
       "18232  www\u000eeira¯&nvinip¿ncH¯wVö%ÆåyDaHðû/ÏyEùu\u0003Ë\\nÓ\u00176...  Safe   \n",
       "18233  'www.institutocgr.coo/web/media/syqvem/dk-\u000fóij...  Safe   \n",
       "18234                  \u0011\u0018Yìê\n",
       "koãÕ»Î§DéÎ\u0002l½ñ¡ââqtò¸/à; Í  Safe   \n",
       "18236  ruta89fm.com/images/AS@Vies/1i75cf7b16vc<F\u0015d16...  Safe   \n",
       "\n",
       "                                          text_tokenized  \\\n",
       "18231  [esxcc, com, js, index, htm, us, battle, net, ...   \n",
       "18232  [www, eira, nvinip, ncH, wV, yDaH, yE, u, rT, ...   \n",
       "18233  [www, institutocgr, coo, web, media, syqvem, d...   \n",
       "18234                                  [Y, ko, D, l, qt]   \n",
       "18236  [ruta, fm, com, images, AS, Vies, i, cf, b, vc...   \n",
       "\n",
       "                                            text_stemmed  \\\n",
       "18231  [esxcc, com, js, index, htm, us, battl, net, n...   \n",
       "18232  [www, eira, nvinip, nch, wv, ydah, ye, u, rt, ...   \n",
       "18233  [www, institutocgr, coo, web, media, syqvem, d...   \n",
       "18234                                  [y, ko, d, l, qt]   \n",
       "18236  [ruta, fm, com, imag, as, vie, i, cf, b, vc, f...   \n",
       "\n",
       "                                               text_sent  \n",
       "18231  esxcc com js index htm us battl net noghn en r...  \n",
       "18232  www eira nvinip nch wv ydah ye u rt u g m i xz...  \n",
       "18233  www institutocgr coo web media syqvem dk ij r ...  \n",
       "18234                                        y ko d l qt  \n",
       "18236  ruta fm com imag as vie i cf b vc f d b g sd v...  "
      ]
     },
     "execution_count": 86,
     "metadata": {},
     "output_type": "execute_result"
    }
   ],
   "source": [
    "good_sites.head()"
   ]
  },
  {
   "cell_type": "code",
   "execution_count": 87,
   "id": "e149f3d9",
   "metadata": {},
   "outputs": [],
   "source": [
    "cv = CountVectorizer()"
   ]
  },
  {
   "cell_type": "code",
   "execution_count": 88,
   "id": "8b1ce9ad",
   "metadata": {},
   "outputs": [],
   "source": [
    "feature = cv.fit_transform(phish_data.text_sent)"
   ]
  },
  {
   "cell_type": "code",
   "execution_count": 89,
   "id": "31a49c56",
   "metadata": {},
   "outputs": [
    {
     "data": {
      "text/plain": [
       "array([[0, 0, 0, ..., 0, 0, 0],\n",
       "       [0, 0, 0, ..., 0, 0, 0],\n",
       "       [0, 0, 0, ..., 0, 0, 0],\n",
       "       [0, 0, 0, ..., 0, 0, 0],\n",
       "       [0, 0, 0, ..., 0, 0, 0]], dtype=int64)"
      ]
     },
     "execution_count": 89,
     "metadata": {},
     "output_type": "execute_result"
    }
   ],
   "source": [
    "feature[:5].toarray() "
   ]
  },
  {
   "cell_type": "code",
   "execution_count": 90,
   "id": "24f17058",
   "metadata": {},
   "outputs": [],
   "source": [
    "trainX, testX, trainY, testY = train_test_split(feature, phish_data.Label)"
   ]
  },
  {
   "cell_type": "code",
   "execution_count": 91,
   "id": "6869747e",
   "metadata": {},
   "outputs": [],
   "source": [
    "lr = LogisticRegression()"
   ]
  },
  {
   "cell_type": "code",
   "execution_count": 92,
   "id": "8bbc7d04",
   "metadata": {},
   "outputs": [
    {
     "data": {
      "text/plain": [
       "LogisticRegression()"
      ]
     },
     "execution_count": 92,
     "metadata": {},
     "output_type": "execute_result"
    }
   ],
   "source": [
    "lr.fit(trainX,trainY)"
   ]
  },
  {
   "cell_type": "code",
   "execution_count": 93,
   "id": "ce46c78f",
   "metadata": {},
   "outputs": [
    {
     "data": {
      "text/plain": [
       "0.9788233295308366"
      ]
     },
     "execution_count": 93,
     "metadata": {},
     "output_type": "execute_result"
    }
   ],
   "source": [
    "lr.score(trainX,trainY)"
   ]
  },
  {
   "cell_type": "code",
   "execution_count": 94,
   "id": "812017cd",
   "metadata": {},
   "outputs": [],
   "source": [
    "Scores_ml = {}\n",
    "Scores_ml['Logistic Regression'] = np.round(lr.score(testX,testY),2)"
   ]
  },
  {
   "cell_type": "code",
   "execution_count": 95,
   "id": "aa22e931",
   "metadata": {},
   "outputs": [
    {
     "name": "stdout",
     "output_type": "stream",
     "text": [
      "Training Accuracy : 0.9788233295308366\n",
      "Testing Accuracy : 0.9640446492933441\n",
      "\n",
      "CLASSIFICATION REPORT\n",
      "\n",
      "              precision    recall  f1-score   support\n",
      "\n",
      "    Phishing       0.91      0.97      0.93     36750\n",
      "        Safe       0.99      0.96      0.98    100587\n",
      "\n",
      "    accuracy                           0.96    137337\n",
      "   macro avg       0.95      0.96      0.96    137337\n",
      "weighted avg       0.97      0.96      0.96    137337\n",
      "\n",
      "\n",
      "CONFUSION MATRIX\n"
     ]
    },
    {
     "data": {
      "text/plain": [
       "<AxesSubplot:>"
      ]
     },
     "execution_count": 95,
     "metadata": {},
     "output_type": "execute_result"
    },
    {
     "data": {
      "image/png": "[encoded data removed]",
      "text/plain": [
       "<Figure size 432x288 with 2 Axes>"
      ]
     },
     "metadata": {},
     "output_type": "display_data"
    }
   ],
   "source": [
    "print('Training Accuracy :',lr.score(trainX,trainY))\n",
    "print('Testing Accuracy :',lr.score(testX,testY))\n",
    "con_mat = pd.DataFrame(confusion_matrix(lr.predict(testX), testY),\n",
    "            columns = ['Predicted:Bad', 'Predicted:Good'],\n",
    "            index = ['Actual:Bad', 'Actual:Good'])\n",
    "\n",
    "\n",
    "print('\\nCLASSIFICATION REPORT\\n')\n",
    "print(classification_report(lr.predict(testX), testY,\n",
    "                            target_names =['Phishing','Safe']))\n",
    "\n",
    "print('\\nCONFUSION MATRIX')\n",
    "plt.figure(figsize= (6,4))\n",
    "sns.heatmap(con_mat, annot = True,fmt='d',cmap=\"YlGnBu\")"
   ]
  },
  {
   "cell_type": "code",
   "execution_count": 96,
   "id": "3b68183f",
   "metadata": {},
   "outputs": [
    {
     "data": {
      "text/plain": [
       "<AxesSubplot:ylabel='Accuracy'>"
      ]
     },
     "execution_count": 96,
     "metadata": {},
     "output_type": "execute_result"
    },
    {
     "data": {
      "image/png": "[encoded data removed]",
      "text/plain": [
       "<Figure size 432x288 with 1 Axes>"
      ]
     },
     "metadata": {},
     "output_type": "display_data"
    }
   ],
   "source": [
    "acc = pd.DataFrame.from_dict(Scores_ml,orient = 'index',columns=['Accuracy'])\n",
    "sns.set_style('darkgrid')\n",
    "sns.barplot(acc.index,acc.Accuracy)"
   ]
  },
  {
   "cell_type": "code",
   "execution_count": 97,
   "id": "62cb975f",
   "metadata": {},
   "outputs": [],
   "source": [
    "pipeline_ls = make_pipeline(CountVectorizer(tokenizer = RegexpTokenizer(r'[A-Za-z]+').tokenize,stop_words='english'), LogisticRegression())"
   ]
  },
  {
   "cell_type": "code",
   "execution_count": 98,
   "id": "670a524a",
   "metadata": {},
   "outputs": [],
   "source": [
    "trainX, testX, trainY, testY = train_test_split(phish_data.URL, phish_data.Label)"
   ]
  },
  {
   "cell_type": "code",
   "execution_count": 99,
   "id": "b25da8fe",
   "metadata": {},
   "outputs": [
    {
     "data": {
      "text/plain": [
       "Pipeline(steps=[('countvectorizer',\n",
       "                 CountVectorizer(stop_words='english',\n",
       "                                 tokenizer=<bound method RegexpTokenizer.tokenize of RegexpTokenizer(pattern='[A-Za-z]+', gaps=False, discard_empty=True, flags=re.UNICODE|re.MULTILINE|re.DOTALL)>)),\n",
       "                ('logisticregression', LogisticRegression())])"
      ]
     },
     "execution_count": 99,
     "metadata": {},
     "output_type": "execute_result"
    }
   ],
   "source": [
    "pipeline_ls.fit(trainX,trainY)"
   ]
  },
  {
   "cell_type": "code",
   "execution_count": 100,
   "id": "b70bbe5b",
   "metadata": {},
   "outputs": [
    {
     "data": {
      "text/plain": [
       "0.9654499515789627"
      ]
     },
     "execution_count": 100,
     "metadata": {},
     "output_type": "execute_result"
    }
   ],
   "source": [
    "pipeline_ls.score(testX,testY) "
   ]
  },
  {
   "cell_type": "code",
   "execution_count": 101,
   "id": "8e8d3628",
   "metadata": {},
   "outputs": [
    {
     "name": "stdout",
     "output_type": "stream",
     "text": [
      "Training Accuracy : 0.9798160238829154\n",
      "Testing Accuracy : 0.9654499515789627\n",
      "\n",
      "CLASSIFICATION REPORT\n",
      "\n",
      "              precision    recall  f1-score   support\n",
      "\n",
      "    Phishing       0.91      0.97      0.94     36959\n",
      "        Safe       0.99      0.96      0.98    100378\n",
      "\n",
      "    accuracy                           0.97    137337\n",
      "   macro avg       0.95      0.97      0.96    137337\n",
      "weighted avg       0.97      0.97      0.97    137337\n",
      "\n",
      "\n",
      "CONFUSION MATRIX\n"
     ]
    },
    {
     "data": {
      "text/plain": [
       "<AxesSubplot:>"
      ]
     },
     "execution_count": 101,
     "metadata": {},
     "output_type": "execute_result"
    },
    {
     "data": {
      "image/png": "[encoded data removed]",
      "text/plain": [
       "<Figure size 432x288 with 2 Axes>"
      ]
     },
     "metadata": {},
     "output_type": "display_data"
    }
   ],
   "source": [
    "print('Training Accuracy :',pipeline_ls.score(trainX,trainY))\n",
    "print('Testing Accuracy :',pipeline_ls.score(testX,testY))\n",
    "con_mat = pd.DataFrame(confusion_matrix(pipeline_ls.predict(testX), testY),\n",
    "            columns = ['Predicted:Bad', 'Predicted:Good'],\n",
    "            index = ['Actual:Bad', 'Actual:Good'])\n",
    "\n",
    "\n",
    "print('\\nCLASSIFICATION REPORT\\n')\n",
    "print(classification_report(pipeline_ls.predict(testX), testY,\n",
    "                            target_names =['Phishing','Safe']))\n",
    "\n",
    "print('\\nCONFUSION MATRIX')\n",
    "plt.figure(figsize= (6,4))\n",
    "sns.heatmap(con_mat, annot = True,fmt='d',cmap=\"YlGnBu\")"
   ]
  },
  {
   "cell_type": "code",
   "execution_count": 102,
   "id": "e5ea19d6",
   "metadata": {},
   "outputs": [],
   "source": [
    "pickle.dump(pipeline_ls,open('phishing1.pkl','wb'))"
   ]
  },
  {
   "cell_type": "code",
   "execution_count": 103,
   "id": "d92b611a",
   "metadata": {},
   "outputs": [
    {
     "name": "stdout",
     "output_type": "stream",
     "text": [
      "0.9654499515789627\n"
     ]
    }
   ],
   "source": [
    "loaded_model = pickle.load(open('phishing1.pkl', 'rb'))\n",
    "result = loaded_model.score(testX,testY)\n",
    "print(result)"
   ]
  },
  {
   "cell_type": "code",
   "execution_count": 104,
   "id": "cabcdf7d",
   "metadata": {},
   "outputs": [
    {
     "name": "stdout",
     "output_type": "stream",
     "text": [
      "['This is a PhishingSite' 'This is a PhishingSite'\n",
      " 'This is a PhishingSite' 'This is a PhishingSite']\n",
      "************************************************************************************************************************************************************************************************************************************************************************************************************\n",
      "['This is a SafeSite' 'This is a SafeSite' 'This is a SafeSite'\n",
      " 'This is a SafeSite']\n"
     ]
    }
   ],
   "source": [
    "import pickle\n",
    "predict_bad = ['yeniik.com.tr/wp-admin/js/login.alibaba.com/login.jsp.php','fazan-pacir.rs/temp/libraries/ipad','tubemoviez.exe','svision-online.de/mgfi/administrator/components/com_babackup/classes/fx29id1.txt']\n",
    "predict_good = ['coursera.org/specializations/learn-sql-basics-data-science','youtube.com/watch?v=qI0TQJI3vdU','retailhellunderground.com/','restorevisioncenters.com/html/technology.html']\n",
    "loaded_model = pickle.load(open('phishing.pkl', 'rb'))\n",
    "result = loaded_model.predict(predict_bad)\n",
    "result2 = loaded_model.predict(predict_good)\n",
    "print('This is a '+result + 'Site')\n",
    "print(\"*\"*300)\n",
    "print('This is a '+result2 + 'Site')"
   ]
  },
  {
   "cell_type": "code",
   "execution_count": 114,
   "id": "e5cdb94b",
   "metadata": {},
   "outputs": [
    {
     "name": "stdout",
     "output_type": "stream",
     "text": [
      "Url test\n",
      "web.telegram.org\n",
      "['Safe']\n"
     ]
    }
   ],
   "source": [
    "site1 = str(input(\"Url test\\n\")).lower()\n",
    "predict1 = []\n",
    "loaded_model = pickle.load(open('phishing1.pkl', 'rb'))\n",
    "predict1.append(site1)\n",
    "result = loaded_model.predict(predict1)\n",
    "if result == 'Phishing ':\n",
    "  if (predict1[0][4]) == 's':\n",
    "    print(\"Safe\")\n",
    "  else:\n",
    "    print('Phising')\n",
    "else:\n",
    "  print(result)"
   ]
  },
  {
   "cell_type": "code",
   "execution_count": null,
   "id": "a0f60d38",
   "metadata": {},
   "outputs": [],
   "source": []
  }
 ],
 "metadata": {
  "kernelspec": {
   "display_name": "Python 3 (ipykernel)",
   "language": "python",
   "name": "python3"
  },
  "language_info": {
   "codemirror_mode": {
    "name": "ipython",
    "version": 3
   },
   "file_extension": ".py",
   "mimetype": "text/x-python",
   "name": "python",
   "nbconvert_exporter": "python",
   "pygments_lexer": "ipython3",
   "version": "3.10.4"
  }
 },
 "nbformat": 4,
 "nbformat_minor": 5
}
